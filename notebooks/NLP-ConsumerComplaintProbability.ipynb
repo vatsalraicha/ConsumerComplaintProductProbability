{
 "cells": [
  {
   "cell_type": "markdown",
   "metadata": {},
   "source": [
    "# Consumer Compaints Data\n",
    "# Predict Related Product Probability using NLP techniques and Naive Bayes (For Multi Class Classification)"
   ]
  },
  {
   "cell_type": "markdown",
   "metadata": {},
   "source": [
    "#### Checking Python Version and Path"
   ]
  },
  {
   "cell_type": "code",
   "execution_count": 1,
   "metadata": {},
   "outputs": [
    {
     "name": "stdout",
     "output_type": "stream",
     "text": [
      "3.10.12 (main, Jul  5 2023, 15:34:07) [Clang 14.0.6 ]\n",
      "['/Users/vatsal/SSDCopy/Projects/NLP-ConsumerComplaintReviewProbabilityPredictionNaiveBayes/notebooks', '/Users/vatsal/SSDCopy/Projects', '/Users/vatsal/miniconda/envs/Python310/lib/python310.zip', '/Users/vatsal/miniconda/envs/Python310/lib/python3.10', '/Users/vatsal/miniconda/envs/Python310/lib/python3.10/lib-dynload', '', '/Users/vatsal/miniconda/envs/Python310/lib/python3.10/site-packages']\n"
     ]
    }
   ],
   "source": [
    "import sys\n",
    "print(sys.version)\n",
    "print(sys.path)"
   ]
  },
  {
   "cell_type": "markdown",
   "metadata": {},
   "source": [
    "#### Importing Required Packages to read data and perform some EDA"
   ]
  },
  {
   "cell_type": "code",
   "execution_count": 2,
   "metadata": {},
   "outputs": [],
   "source": [
    "import pandas as pd\n",
    "import numpy as np\n",
    "import seaborn as sns\n",
    "import matplotlib.pyplot as plt\n",
    "import re\n",
    "from collections import Counter\n",
    "%matplotlib inline"
   ]
  },
  {
   "cell_type": "code",
   "execution_count": 9,
   "metadata": {},
   "outputs": [],
   "source": [
    "pd.set_option('display.max_colwidth', 20)"
   ]
  },
  {
   "cell_type": "markdown",
   "metadata": {},
   "source": [
    "##### Reading the Input Data"
   ]
  },
  {
   "cell_type": "code",
   "execution_count": 3,
   "metadata": {},
   "outputs": [],
   "source": [
    "consumer_complaints = pd.read_csv('../data/complaints.csv')"
   ]
  },
  {
   "cell_type": "code",
   "execution_count": 10,
   "metadata": {},
   "outputs": [
    {
     "data": {
      "text/plain": [
       "(2326246, 18)"
      ]
     },
     "execution_count": 10,
     "metadata": {},
     "output_type": "execute_result"
    }
   ],
   "source": [
    "consumer_complaints.shape"
   ]
  },
  {
   "cell_type": "markdown",
   "metadata": {},
   "source": [
    "#### About 2.3 Million Rows and 18 Columns"
   ]
  },
  {
   "cell_type": "code",
   "execution_count": 11,
   "metadata": {},
   "outputs": [
    {
     "data": {
      "text/html": [
       "<div>\n",
       "<style scoped>\n",
       "    .dataframe tbody tr th:only-of-type {\n",
       "        vertical-align: middle;\n",
       "    }\n",
       "\n",
       "    .dataframe tbody tr th {\n",
       "        vertical-align: top;\n",
       "    }\n",
       "\n",
       "    .dataframe thead th {\n",
       "        text-align: right;\n",
       "    }\n",
       "</style>\n",
       "<table border=\"1\" class=\"dataframe\">\n",
       "  <thead>\n",
       "    <tr style=\"text-align: right;\">\n",
       "      <th></th>\n",
       "      <th>Date received</th>\n",
       "      <th>Product</th>\n",
       "      <th>Sub-product</th>\n",
       "      <th>Issue</th>\n",
       "      <th>Sub-issue</th>\n",
       "      <th>Consumer complaint narrative</th>\n",
       "      <th>Company public response</th>\n",
       "      <th>Company</th>\n",
       "      <th>State</th>\n",
       "      <th>ZIP code</th>\n",
       "      <th>Tags</th>\n",
       "      <th>Consumer consent provided?</th>\n",
       "      <th>Submitted via</th>\n",
       "      <th>Date sent to company</th>\n",
       "      <th>Company response to consumer</th>\n",
       "      <th>Timely response?</th>\n",
       "      <th>Consumer disputed?</th>\n",
       "      <th>Complaint ID</th>\n",
       "    </tr>\n",
       "  </thead>\n",
       "  <tbody>\n",
       "    <tr>\n",
       "      <th>0</th>\n",
       "      <td>2019-06-13</td>\n",
       "      <td>Credit reporting...</td>\n",
       "      <td>Credit reporting</td>\n",
       "      <td>Incorrect inform...</td>\n",
       "      <td>Information belo...</td>\n",
       "      <td>NaN</td>\n",
       "      <td>NaN</td>\n",
       "      <td>CAPITAL ONE FINA...</td>\n",
       "      <td>PA</td>\n",
       "      <td>186XX</td>\n",
       "      <td>NaN</td>\n",
       "      <td>Consent not prov...</td>\n",
       "      <td>Web</td>\n",
       "      <td>2019-06-13</td>\n",
       "      <td>Closed with expl...</td>\n",
       "      <td>Yes</td>\n",
       "      <td>NaN</td>\n",
       "      <td>3274605</td>\n",
       "    </tr>\n",
       "    <tr>\n",
       "      <th>1</th>\n",
       "      <td>2019-11-01</td>\n",
       "      <td>Vehicle loan or ...</td>\n",
       "      <td>Loan</td>\n",
       "      <td>Struggling to pa...</td>\n",
       "      <td>Denied request t...</td>\n",
       "      <td>I contacted Ally...</td>\n",
       "      <td>Company has resp...</td>\n",
       "      <td>ALLY FINANCIAL INC.</td>\n",
       "      <td>NJ</td>\n",
       "      <td>088XX</td>\n",
       "      <td>NaN</td>\n",
       "      <td>Consent provided</td>\n",
       "      <td>Web</td>\n",
       "      <td>2019-11-01</td>\n",
       "      <td>Closed with expl...</td>\n",
       "      <td>Yes</td>\n",
       "      <td>NaN</td>\n",
       "      <td>3425257</td>\n",
       "    </tr>\n",
       "    <tr>\n",
       "      <th>2</th>\n",
       "      <td>2019-04-01</td>\n",
       "      <td>Credit reporting...</td>\n",
       "      <td>Credit reporting</td>\n",
       "      <td>Incorrect inform...</td>\n",
       "      <td>Account status i...</td>\n",
       "      <td>NaN</td>\n",
       "      <td>Company has resp...</td>\n",
       "      <td>TRANSUNION INTER...</td>\n",
       "      <td>PA</td>\n",
       "      <td>19067</td>\n",
       "      <td>NaN</td>\n",
       "      <td>Consent not prov...</td>\n",
       "      <td>Web</td>\n",
       "      <td>2019-04-01</td>\n",
       "      <td>Closed with expl...</td>\n",
       "      <td>Yes</td>\n",
       "      <td>NaN</td>\n",
       "      <td>3198225</td>\n",
       "    </tr>\n",
       "    <tr>\n",
       "      <th>3</th>\n",
       "      <td>2021-11-01</td>\n",
       "      <td>Credit reporting...</td>\n",
       "      <td>Credit reporting</td>\n",
       "      <td>Problem with a c...</td>\n",
       "      <td>Was not notified...</td>\n",
       "      <td>NaN</td>\n",
       "      <td>NaN</td>\n",
       "      <td>TRANSUNION INTER...</td>\n",
       "      <td>GA</td>\n",
       "      <td>31707</td>\n",
       "      <td>NaN</td>\n",
       "      <td>NaN</td>\n",
       "      <td>Web</td>\n",
       "      <td>2021-11-01</td>\n",
       "      <td>In progress</td>\n",
       "      <td>Yes</td>\n",
       "      <td>NaN</td>\n",
       "      <td>4863965</td>\n",
       "    </tr>\n",
       "    <tr>\n",
       "      <th>4</th>\n",
       "      <td>2021-11-02</td>\n",
       "      <td>Debt collection</td>\n",
       "      <td>Medical debt</td>\n",
       "      <td>Took or threaten...</td>\n",
       "      <td>Threatened or su...</td>\n",
       "      <td>NaN</td>\n",
       "      <td>NaN</td>\n",
       "      <td>Medical Data Sys...</td>\n",
       "      <td>VA</td>\n",
       "      <td>22033</td>\n",
       "      <td>NaN</td>\n",
       "      <td>NaN</td>\n",
       "      <td>Web</td>\n",
       "      <td>2021-11-02</td>\n",
       "      <td>In progress</td>\n",
       "      <td>Yes</td>\n",
       "      <td>NaN</td>\n",
       "      <td>4866449</td>\n",
       "    </tr>\n",
       "  </tbody>\n",
       "</table>\n",
       "</div>"
      ],
      "text/plain": [
       "  Date received              Product       Sub-product                Issue  \\\n",
       "0    2019-06-13  Credit reporting...  Credit reporting  Incorrect inform...   \n",
       "1    2019-11-01  Vehicle loan or ...              Loan  Struggling to pa...   \n",
       "2    2019-04-01  Credit reporting...  Credit reporting  Incorrect inform...   \n",
       "3    2021-11-01  Credit reporting...  Credit reporting  Problem with a c...   \n",
       "4    2021-11-02      Debt collection      Medical debt  Took or threaten...   \n",
       "\n",
       "             Sub-issue Consumer complaint narrative Company public response  \\\n",
       "0  Information belo...                  NaN                          NaN      \n",
       "1  Denied request t...  I contacted Ally...          Company has resp...      \n",
       "2  Account status i...                  NaN          Company has resp...      \n",
       "3  Was not notified...                  NaN                          NaN      \n",
       "4  Threatened or su...                  NaN                          NaN      \n",
       "\n",
       "               Company State ZIP code Tags Consumer consent provided?  \\\n",
       "0  CAPITAL ONE FINA...    PA    186XX  NaN  Consent not prov...         \n",
       "1  ALLY FINANCIAL INC.    NJ    088XX  NaN     Consent provided         \n",
       "2  TRANSUNION INTER...    PA    19067  NaN  Consent not prov...         \n",
       "3  TRANSUNION INTER...    GA    31707  NaN                  NaN         \n",
       "4  Medical Data Sys...    VA    22033  NaN                  NaN         \n",
       "\n",
       "  Submitted via Date sent to company Company response to consumer  \\\n",
       "0           Web           2019-06-13  Closed with expl...           \n",
       "1           Web           2019-11-01  Closed with expl...           \n",
       "2           Web           2019-04-01  Closed with expl...           \n",
       "3           Web           2021-11-01          In progress           \n",
       "4           Web           2021-11-02          In progress           \n",
       "\n",
       "  Timely response? Consumer disputed?  Complaint ID  \n",
       "0              Yes                NaN       3274605  \n",
       "1              Yes                NaN       3425257  \n",
       "2              Yes                NaN       3198225  \n",
       "3              Yes                NaN       4863965  \n",
       "4              Yes                NaN       4866449  "
      ]
     },
     "execution_count": 11,
     "metadata": {},
     "output_type": "execute_result"
    }
   ],
   "source": [
    "consumer_complaints.head()"
   ]
  },
  {
   "cell_type": "markdown",
   "metadata": {},
   "source": [
    "#### For learning purposes, focusing only on Consumer Complaint Narrative and the Product Column"
   ]
  },
  {
   "cell_type": "code",
   "execution_count": 12,
   "metadata": {},
   "outputs": [],
   "source": [
    "pd.set_option('display.max_colwidth', 999)"
   ]
  },
  {
   "cell_type": "code",
   "execution_count": 13,
   "metadata": {},
   "outputs": [
    {
     "data": {
      "text/plain": [
       "1     I contacted Ally on Friday XX/XX/XXXX after falling behind on payments due to being out of work for a short period of time due to an illness. I chated with a representative after logging into my account regarding my opitions to ensure I protect my credit and bring my account current. \\n\\nShe advised me that before an extenstion could be done, I had to make a payment in the amount of {$270.00}. I reviewed my finances, as I am playing catch up on all my bills and made this payment on Monday XX/XX/XXXX. This rep advised me, once this payment posts to my account to contact Ally back for an extention or to have a payment deffered to the end of my loan. \\n\\nWith this in mind, I contacted Ally again today and chatted with XXXX. I explained all of the above and the information I was provided when I chatted with the rep last week. She asked several questions and advised me that a one or two month  extension/deffered payment could be done however partial payment is needed! WHAT? She advised...\n",
       "7     Hello This complaint is against the three credit reporting companies. XXXX, Trans Union and XXXX. I noticed some discrepencies on my credit report so I put a credit freeze with XXXX.on XX/XX/2019. I then notified the three credit agencies previously stated with a writtent letter dated XX/XX/2019 requesting them to verifiy certain accounts showing on my report They were a Bankruptcy and a bank account from XXXX XXXX XXXX. \\nThe response from XXXX and XXXX  was that it was verified through their third partner XXXX. That can not be correct because I have a Freeze on my XXXX XXXX account since XX/XX/XXXX. which no one can obtain my report for anything until I unfreeze it. \\nI wrote XXXX and XXXX a second letter and mailed them on XX/XX/2019 telling them that they have lied when they said that they verified the two accounts in question using XXXX because I have a freeze on my account and when I called XXXX on XX/XX/2019 they stated that no one has requested or attempted access to my ac...\n",
       "8     I am a victim of Identity Theft & currently have an Experian account that I can view my Experian Credit Report and getting notified when there is activity on my Experian Credit Report. For the past 3 days I've spent a total of approximately 9 hours on the phone with Experian. Every time I call I get transferred repeatedly and then my last transfer and automated message states to press 1 and leave a message and someone would call me. Every time I press 1 I get an automatic message stating than you before I even leave a message and get disconnected. I call Experian again, explain what is happening and the process begins again with the same end result. I was trying to have this issue attended and resolved informally but I give up after 9 hours. There are hard hit inquiries on my Experian Credit Report that are fraud, I didn't authorize, or recall and I respectfully request that Experian remove the hard hit inquiries immediately just like they've done in the past when I was able to sp...\n",
       "10                                                                                                                                                                                                                                                                                                                                                                                                                                                                                                                                                                                                                                                                                                                                                                                                                                                           Two accounts are still on my credit history after contacting the credit bureau. They have the incorrect status and account balances. \\n\\nXXXX XXXX - XXXX XXXX XXXX XXXX - XXXX\n",
       "13                                                                                                                                                                                                                                                                                                                                                                                                     Receiving daily telephone call ( s ) from XXXX XXXX XXXX identifying themselves as from an attorney 's office and I am unable to decifer the name after asking 3 times. They ask me to confirm that my name is \" prior married name \". I ask what they want and they repeat the question. I responded yes and they hang up. \\n\\nThe next call from that number was asking me if I was a different name - my maiden name which I recently change to. When I asked for clarification, they hung up. \\n\\nI have received a total of 6 calls in approx 2 days. They never divulge what they want after attempting to verify my name ( s )\n",
       "Name: Consumer complaint narrative, dtype: object"
      ]
     },
     "execution_count": 13,
     "metadata": {},
     "output_type": "execute_result"
    }
   ],
   "source": [
    "consumer_complaints['Consumer complaint narrative'][~(consumer_complaints['Consumer complaint narrative'].isna())].head()"
   ]
  },
  {
   "cell_type": "markdown",
   "metadata": {},
   "source": [
    "##### I get a sense of the consumer complaint data. Now I will take a look at the related products"
   ]
  },
  {
   "cell_type": "code",
   "execution_count": 17,
   "metadata": {},
   "outputs": [
    {
     "data": {
      "text/plain": [
       "1                                                            Vehicle loan or lease\n",
       "7     Credit reporting, credit repair services, or other personal consumer reports\n",
       "8     Credit reporting, credit repair services, or other personal consumer reports\n",
       "10    Credit reporting, credit repair services, or other personal consumer reports\n",
       "13    Credit reporting, credit repair services, or other personal consumer reports\n",
       "Name: Product, dtype: object"
      ]
     },
     "execution_count": 17,
     "metadata": {},
     "output_type": "execute_result"
    }
   ],
   "source": [
    "consumer_complaints['Product'][~(consumer_complaints['Consumer complaint narrative'].isna())].head()"
   ]
  },
  {
   "cell_type": "code",
   "execution_count": 18,
   "metadata": {},
   "outputs": [],
   "source": [
    "pd.set_option('display.max_colwidth', 100)"
   ]
  },
  {
   "cell_type": "markdown",
   "metadata": {},
   "source": [
    "##### Let's look at the spread of data across different consumer complaints"
   ]
  },
  {
   "cell_type": "code",
   "execution_count": 20,
   "metadata": {},
   "outputs": [
    {
     "data": {
      "text/plain": [
       "Product\n",
       "Credit reporting, credit repair services, or other personal consumer reports    37.035034\n",
       "Debt collection                                                                 16.683876\n",
       "Mortgage                                                                        14.614319\n",
       "Credit reporting                                                                 6.036808\n",
       "Credit card or prepaid card                                                      5.366156\n",
       "Checking or savings account                                                      4.451292\n",
       "Credit card                                                                      3.834074\n",
       "Bank account or service                                                          3.705799\n",
       "Student loan                                                                     2.732342\n",
       "Money transfer, virtual currency, or money service                               1.453415\n",
       "Consumer Loan                                                                    1.358412\n",
       "Vehicle loan or lease                                                            1.222270\n",
       "Payday loan, title loan, or personal loan                                        0.827342\n",
       "Payday loan                                                                      0.238281\n",
       "Money transfers                                                                  0.230156\n",
       "Prepaid card                                                                     0.164170\n",
       "Other financial service                                                          0.045481\n",
       "Virtual currency                                                                 0.000774\n",
       "Name: proportion, dtype: float64"
      ]
     },
     "execution_count": 20,
     "metadata": {},
     "output_type": "execute_result"
    }
   ],
   "source": [
    "consumer_complaints[\"Product\"].value_counts(normalize=True)*100"
   ]
  },
  {
   "cell_type": "markdown",
   "metadata": {},
   "source": [
    "##### Data is mostly about Credit Reporting, Data Collection, Mortgage, Credit/Debit Cards and Checking/Savings Accounts. These Products total to about 91% of the data."
   ]
  },
  {
   "cell_type": "code",
   "execution_count": 43,
   "metadata": {},
   "outputs": [
    {
     "data": {
      "text/plain": [
       "(1516903, 1516903)"
      ]
     },
     "execution_count": 43,
     "metadata": {},
     "output_type": "execute_result"
    }
   ],
   "source": [
    "consumer_complaints[\"Consumer complaint narrative\"].isnull().sum(), consumer_complaints[\"Consumer complaint narrative\"].isna().sum()"
   ]
  },
  {
   "cell_type": "markdown",
   "metadata": {},
   "source": [
    "##### About 1.5 million Complaints have no narrative.\n",
    "##### Lets look at the complaint spread for the Product columns where the data is not null or na"
   ]
  },
  {
   "cell_type": "code",
   "execution_count": 23,
   "metadata": {},
   "outputs": [
    {
     "data": {
      "text/plain": [
       "Product\n",
       "Credit reporting, credit repair services, or other personal consumer reports    39.101469\n",
       "Debt collection                                                                 19.445526\n",
       "Mortgage                                                                        10.435749\n",
       "Credit card or prepaid card                                                      7.506582\n",
       "Checking or savings account                                                      4.619673\n",
       "Credit reporting                                                                 3.902919\n",
       "Student loan                                                                     3.594768\n",
       "Credit card                                                                      2.327567\n",
       "Money transfer, virtual currency, or money service                               2.296060\n",
       "Vehicle loan or lease                                                            1.857556\n",
       "Bank account or service                                                          1.839146\n",
       "Payday loan, title loan, or personal loan                                        1.284993\n",
       "Consumer Loan                                                                    1.170085\n",
       "Payday loan                                                                      0.215731\n",
       "Money transfers                                                                  0.184965\n",
       "Prepaid card                                                                     0.179158\n",
       "Other financial service                                                          0.036079\n",
       "Virtual currency                                                                 0.001977\n",
       "Name: proportion, dtype: float64"
      ]
     },
     "execution_count": 23,
     "metadata": {},
     "output_type": "execute_result"
    }
   ],
   "source": [
    "consumer_complaints[~(consumer_complaints[\"Consumer complaint narrative\"].isnull())][\"Product\"].value_counts(normalize=True)*100"
   ]
  },
  {
   "cell_type": "code",
   "execution_count": 24,
   "metadata": {},
   "outputs": [
    {
     "data": {
      "text/plain": [
       "88.597"
      ]
     },
     "execution_count": 24,
     "metadata": {},
     "output_type": "execute_result"
    }
   ],
   "source": [
    "39.101 + 19.44 + 10.435 + 7.506 + 4.619 + 3.902 + 3.594"
   ]
  },
  {
   "cell_type": "markdown",
   "metadata": {},
   "source": [
    "##### Top 7 Product Categories contribute about 89% of complaints. Student Loans which represented about 2.73% of data before null cleanup has jumped up to 3.594%"
   ]
  },
  {
   "cell_type": "markdown",
   "metadata": {},
   "source": [
    "#### Keeping only 2 columns of Interest and dropping the records with missing Complaints data (Null)"
   ]
  },
  {
   "cell_type": "code",
   "execution_count": 25,
   "metadata": {},
   "outputs": [],
   "source": [
    "complaints_data = consumer_complaints[['Consumer complaint narrative', 'Product']]"
   ]
  },
  {
   "cell_type": "code",
   "execution_count": 26,
   "metadata": {},
   "outputs": [],
   "source": [
    "complaints_data.columns = [\"Complaints\", \"Product\"]"
   ]
  },
  {
   "cell_type": "code",
   "execution_count": 27,
   "metadata": {},
   "outputs": [
    {
     "data": {
      "text/plain": [
       "Index(['Complaints', 'Product'], dtype='object')"
      ]
     },
     "execution_count": 27,
     "metadata": {},
     "output_type": "execute_result"
    }
   ],
   "source": [
    "complaints_data.columns"
   ]
  },
  {
   "cell_type": "code",
   "execution_count": 30,
   "metadata": {},
   "outputs": [
    {
     "name": "stderr",
     "output_type": "stream",
     "text": [
      "/var/folders/y2/ff1bp6sj4hq36hkps05494740000gn/T/ipykernel_9719/2444864910.py:1: SettingWithCopyWarning: \n",
      "A value is trying to be set on a copy of a slice from a DataFrame\n",
      "\n",
      "See the caveats in the documentation: https://pandas.pydata.org/pandas-docs/stable/user_guide/indexing.html#returning-a-view-versus-a-copy\n",
      "  complaints_data.dropna(inplace=True)\n"
     ]
    },
    {
     "data": {
      "text/plain": [
       "(809343, 2)"
      ]
     },
     "execution_count": 30,
     "metadata": {},
     "output_type": "execute_result"
    }
   ],
   "source": [
    "complaints_data.dropna(inplace=True)\n",
    "complaints_data.shape"
   ]
  },
  {
   "cell_type": "markdown",
   "metadata": {},
   "source": [
    "##### Lets look at the unique Products"
   ]
  },
  {
   "cell_type": "code",
   "execution_count": 28,
   "metadata": {},
   "outputs": [
    {
     "data": {
      "text/plain": [
       "(18,\n",
       " array(['Credit reporting, credit repair services, or other personal consumer reports',\n",
       "        'Vehicle loan or lease', 'Debt collection', 'Mortgage',\n",
       "        'Credit card or prepaid card', 'Checking or savings account',\n",
       "        'Money transfer, virtual currency, or money service',\n",
       "        'Student loan', 'Payday loan, title loan, or personal loan',\n",
       "        'Consumer Loan', 'Bank account or service', 'Money transfers',\n",
       "        'Credit reporting', 'Credit card', 'Other financial service',\n",
       "        'Payday loan', 'Prepaid card', 'Virtual currency'], dtype=object))"
      ]
     },
     "execution_count": 28,
     "metadata": {},
     "output_type": "execute_result"
    }
   ],
   "source": [
    "complaints_data.Product.nunique(),complaints_data.Product.unique()"
   ]
  },
  {
   "cell_type": "markdown",
   "metadata": {},
   "source": [
    "#### Mapping these to simpler categories"
   ]
  },
  {
   "cell_type": "code",
   "execution_count": 35,
   "metadata": {},
   "outputs": [],
   "source": [
    "ProductMapping = \n",
    "{'Credit reporting, credit repair services, or other personal consumer reports': \"Credit_Report\",\n",
    "'Vehicle loan or lease' : \"Auto_Loan\",\n",
    "'Debt collection' : \"Collections\",\n",
    "'Mortgage' : \"Mortgage\",\n",
    "'Credit card or prepaid card' : \"Card\",\n",
    "'Checking or savings account' : \"Bank_Account\",\n",
    "'Money transfer, virtual currency, or money service': \"Money_Transfer\",\n",
    "'Student loan' : \"Loan\",\n",
    "'Payday loan, title loan, or personal loan' : \"Loan\",\n",
    "'Consumer Loan' : \"Loan\",\n",
    "'Bank account or service' : \"Bank_Account\",\n",
    "'Money transfers' : \"Money_Transfer\",\n",
    "'Credit reporting': \"Credit_Report\",\n",
    "'Credit card' : \"Card\",\n",
    "'Other financial service' : \"Others\",\n",
    "'Payday loan' : \"Loan\",\n",
    "'Prepaid card' : \"Card\",\n",
    "'Virtual currency' : \"Money_Transfer\"}"
   ]
  },
  {
   "cell_type": "code",
   "execution_count": 38,
   "metadata": {},
   "outputs": [
    {
     "name": "stderr",
     "output_type": "stream",
     "text": [
      "/var/folders/y2/ff1bp6sj4hq36hkps05494740000gn/T/ipykernel_9719/2259159054.py:1: SettingWithCopyWarning: \n",
      "A value is trying to be set on a copy of a slice from a DataFrame.\n",
      "Try using .loc[row_indexer,col_indexer] = value instead\n",
      "\n",
      "See the caveats in the documentation: https://pandas.pydata.org/pandas-docs/stable/user_guide/indexing.html#returning-a-view-versus-a-copy\n",
      "  complaints_data[\"Product\"] = complaints_data[\"Product\"].map(ProductMapping)\n"
     ]
    }
   ],
   "source": [
    "complaints_data[\"Product\"] = complaints_data[\"Product\"].map(ProductMapping)"
   ]
  },
  {
   "cell_type": "code",
   "execution_count": 39,
   "metadata": {},
   "outputs": [
    {
     "data": {
      "text/plain": [
       "(9,\n",
       " array(['Auto_Loan', 'Credit_Report', 'Card', 'Money_Transfer', 'Mortgage',\n",
       "        'Loan', 'Collections', 'Bank_Account', 'Others'], dtype=object))"
      ]
     },
     "execution_count": 39,
     "metadata": {},
     "output_type": "execute_result"
    }
   ],
   "source": [
    "complaints_data.Product.nunique(),complaints_data.Product.unique()"
   ]
  },
  {
   "cell_type": "markdown",
   "metadata": {},
   "source": [
    "##### So now we have simplified the Products and are left with 9 Products"
   ]
  },
  {
   "cell_type": "code",
   "execution_count": 44,
   "metadata": {},
   "outputs": [
    {
     "data": {
      "text/plain": [
       "<Figure size 1400x800 with 0 Axes>"
      ]
     },
     "metadata": {},
     "output_type": "display_data"
    },
    {
     "data": {
      "image/png": "[encoded data removed]",
      "text/plain": [
       "<Figure size 640x480 with 1 Axes>"
      ]
     },
     "metadata": {},
     "output_type": "display_data"
    }
   ],
   "source": [
    "plt.figure(figsize=(14, 8))\n",
    "fig, ax = plt.subplots()\n",
    "ax.set_facecolor(\"#525252\")\n",
    "fig.set_facecolor(\"#525252\")\n",
    "res = sns.countplot(x=\"Product\", data=complaints_data\n",
    ")\n",
    "res.set_xticklabels(\n",
    "    res.get_xticklabels(),\n",
    "    rotation=45,\n",
    "    horizontalalignment='right'\n",
    ")\n",
    "ax.bar_label(ax.containers[0], fmt='%d', label_type='edge', fontsize=7, color='white')\n",
    "ax.tick_params(axis='x', labelsize=7)\n",
    "ax.tick_params(axis='y', labelsize=7)\n",
    "plt.show()"
   ]
  },
  {
   "cell_type": "code",
   "execution_count": 45,
   "metadata": {},
   "outputs": [
    {
     "data": {
      "text/plain": [
       "(809343,)"
      ]
     },
     "execution_count": 45,
     "metadata": {},
     "output_type": "execute_result"
    }
   ],
   "source": [
    "complaints_data[\"Complaints\"].shape"
   ]
  },
  {
   "cell_type": "markdown",
   "metadata": {},
   "source": [
    "##### Will now perform some Text Pre Processing to prep the Complaint Narratives to be analysed for NLP"
   ]
  },
  {
   "cell_type": "markdown",
   "metadata": {},
   "source": [
    "##### Importing nltk libraries"
   ]
  },
  {
   "cell_type": "code",
   "execution_count": 55,
   "metadata": {},
   "outputs": [],
   "source": [
    "import nltk\n",
    "from nltk.corpus import stopwords\n",
    "from nltk.tokenize import word_tokenize, RegexpTokenizer\n",
    "from tqdm import tqdm"
   ]
  },
  {
   "cell_type": "markdown",
   "metadata": {},
   "source": [
    "##### Converting the Complaints column to lower case"
   ]
  },
  {
   "cell_type": "code",
   "execution_count": 59,
   "metadata": {},
   "outputs": [],
   "source": [
    "complaints_df = complaints_data[\"Complaints\"].str.lower()"
   ]
  },
  {
   "cell_type": "markdown",
   "metadata": {},
   "source": [
    "##### Tokekizing"
   ]
  },
  {
   "cell_type": "code",
   "execution_count": 62,
   "metadata": {},
   "outputs": [],
   "source": [
    "complaints_df = complaints_df.map(word_tokenize)"
   ]
  },
  {
   "cell_type": "code",
   "execution_count": 65,
   "metadata": {},
   "outputs": [
    {
     "name": "stdout",
     "output_type": "stream",
     "text": [
      "['my', 'credit', 'reports', 'list', 'monies', 'owed', 'to', 'xxxx', '.', 'i', 'have', 'written', 'to', 'the', 'collection', 'agency', ',', 'xxxx', 'xxxx', 'xxxx', 'requesting', 'proof', 'that', 'i', 'owe', 'monies', 'on', 'this', 'account', ',', 'but', 'none', 'was', 'ever', 'sent', '.', 'i', 'notified', 'the', 'credit', 'agencies', 'that', 'this', 'creditor', 'never', 'sent', 'me', 'the', 'required', 'proof', ',', 'yet', 'they', 'continue', 'to', 'list', 'this', 'account', 'on', 'my', 'credit', 'report', '.', 'my', 'credit', 'reports', 'list', 'xxxx', 'xxxx', 'xxxx', 'and', 'xxxx', 'for', 'monies', 'owed', 'to', 'xxxx', '.', 'i', 'submitted', 'documentation', 'that', 'showed', 'that', 'the', 'original', 'creditor', 'was', 'paid', 'however', ',', 'the', 'credit', 'reporting', 'agencies', 'continue', 'to', 'list', 'xxxx', 'xxxx', 'on', 'my', 'credit', 'report', '.', 'furthermore', ',', 'two', 'separate', 'collection', 'agencies', 'can', 'not', 'be', 'listed', 'on', 'my', 'creditreport', 'over', 'the', 'same', 'account', '.', 'my', 'credit', 'reports', 'list', 'a', 'bankruptcy', 'that', 'should', 'have', 'been', 'deleted', 'since', 'the', '7', 'years', 'of', 'reporting', 'it', 'has', 'expired', '.']\n"
     ]
    }
   ],
   "source": [
    "print(complaints_df.iloc[13])"
   ]
  },
  {
   "cell_type": "markdown",
   "metadata": {},
   "source": [
    "##### Removing Stop words"
   ]
  },
  {
   "cell_type": "code",
   "execution_count": 66,
   "metadata": {},
   "outputs": [],
   "source": [
    "sw = stopwords.words('english')"
   ]
  },
  {
   "cell_type": "code",
   "execution_count": 72,
   "metadata": {},
   "outputs": [],
   "source": [
    "def remove_stop_words(words):\n",
    "    return [word for word in words if word not in sw]"
   ]
  },
  {
   "cell_type": "code",
   "execution_count": 73,
   "metadata": {},
   "outputs": [
    {
     "name": "stdout",
     "output_type": "stream",
     "text": [
      "['credit', 'reports', 'list', 'monies', 'owed', 'xxxx', '.', 'written', 'collection', 'agency', ',', 'xxxx', 'xxxx', 'xxxx', 'requesting', 'proof', 'owe', 'monies', 'account', ',', 'none', 'ever', 'sent', '.', 'notified', 'credit', 'agencies', 'creditor', 'never', 'sent', 'required', 'proof', ',', 'yet', 'continue', 'list', 'account', 'credit', 'report', '.', 'credit', 'reports', 'list', 'xxxx', 'xxxx', 'xxxx', 'xxxx', 'monies', 'owed', 'xxxx', '.', 'submitted', 'documentation', 'showed', 'original', 'creditor', 'paid', 'however', ',', 'credit', 'reporting', 'agencies', 'continue', 'list', 'xxxx', 'xxxx', 'credit', 'report', '.', 'furthermore', ',', 'two', 'separate', 'collection', 'agencies', 'listed', 'creditreport', 'account', '.', 'credit', 'reports', 'list', 'bankruptcy', 'deleted', 'since', '7', 'years', 'reporting', 'expired', '.']\n"
     ]
    }
   ],
   "source": [
    "complaints_df = complaints_df.apply(remove_stop_words)\n",
    "print(complaints_df.iloc[13])"
   ]
  },
  {
   "cell_type": "markdown",
   "metadata": {},
   "source": [
    "##### Remove Punctuations"
   ]
  },
  {
   "cell_type": "code",
   "execution_count": 74,
   "metadata": {},
   "outputs": [],
   "source": [
    "tokenizer = RegexpTokenizer(r'\\w+')"
   ]
  },
  {
   "cell_type": "code",
   "execution_count": 110,
   "metadata": {},
   "outputs": [],
   "source": [
    "complaints_df = complaints_df.apply(lambda x: [\" \".join(tokenizer.tokenize(t)) for t in x if len(tokenizer.tokenize(t))>0 ])"
   ]
  },
  {
   "cell_type": "code",
   "execution_count": 111,
   "metadata": {},
   "outputs": [
    {
     "name": "stdout",
     "output_type": "stream",
     "text": [
      "['credit', 'reports', 'list', 'monies', 'owed', 'xxxx', 'written', 'collection', 'agency', 'xxxx', 'xxxx', 'xxxx', 'requesting', 'proof', 'owe', 'monies', 'account', 'none', 'ever', 'sent', 'notified', 'credit', 'agencies', 'creditor', 'never', 'sent', 'required', 'proof', 'yet', 'continue', 'list', 'account', 'credit', 'report', 'credit', 'reports', 'list', 'xxxx', 'xxxx', 'xxxx', 'xxxx', 'monies', 'owed', 'xxxx', 'submitted', 'documentation', 'showed', 'original', 'creditor', 'paid', 'however', 'credit', 'reporting', 'agencies', 'continue', 'list', 'xxxx', 'xxxx', 'credit', 'report', 'furthermore', 'two', 'separate', 'collection', 'agencies', 'listed', 'creditreport', 'account', 'credit', 'reports', 'list', 'bankruptcy', 'deleted', 'since', '7', 'years', 'reporting', 'expired']\n"
     ]
    }
   ],
   "source": [
    "print(complaints_df.iloc[13])"
   ]
  },
  {
   "cell_type": "markdown",
   "metadata": {},
   "source": [
    "##### Removing words such as xx, xxxx, xxxxx and numbers of the format 00, 000, 0000 using Regex"
   ]
  },
  {
   "cell_type": "code",
   "execution_count": 122,
   "metadata": {},
   "outputs": [],
   "source": [
    "complaints_df = complaints_df.apply(lambda x: [(re.sub(r'\\b(?:xx{1,3}|xxxxxx|00{1,3})\\b',\"\",t).strip()) for t in x if len((re.sub(r'\\b(?:xx{1,3}|xxxxxx|00{1,3})\\b',\"\",t).strip())) > 0])"
   ]
  },
  {
   "cell_type": "code",
   "execution_count": 123,
   "metadata": {},
   "outputs": [
    {
     "name": "stdout",
     "output_type": "stream",
     "text": [
      "['credit', 'reports', 'list', 'monies', 'owed', 'written', 'collection', 'agency', 'requesting', 'proof', 'owe', 'monies', 'account', 'none', 'ever', 'sent', 'notified', 'credit', 'agencies', 'creditor', 'never', 'sent', 'required', 'proof', 'yet', 'continue', 'list', 'account', 'credit', 'report', 'credit', 'reports', 'list', 'monies', 'owed', 'submitted', 'documentation', 'showed', 'original', 'creditor', 'paid', 'however', 'credit', 'reporting', 'agencies', 'continue', 'list', 'credit', 'report', 'furthermore', 'two', 'separate', 'collection', 'agencies', 'listed', 'creditreport', 'account', 'credit', 'reports', 'list', 'bankruptcy', 'deleted', 'since', '7', 'years', 'reporting', 'expired']\n"
     ]
    }
   ],
   "source": [
    "print(complaints_df.iloc[13])"
   ]
  },
  {
   "cell_type": "markdown",
   "metadata": {},
   "source": [
    "##### Performing Stemming"
   ]
  },
  {
   "cell_type": "code",
   "execution_count": 124,
   "metadata": {},
   "outputs": [],
   "source": [
    "from nltk.stem import PorterStemmer\n",
    "stemmer = PorterStemmer()"
   ]
  },
  {
   "cell_type": "code",
   "execution_count": 127,
   "metadata": {},
   "outputs": [],
   "source": [
    "complaints_df = complaints_df.apply(lambda words: [stemmer.stem(word) for word in words])"
   ]
  },
  {
   "cell_type": "code",
   "execution_count": 128,
   "metadata": {},
   "outputs": [
    {
     "name": "stdout",
     "output_type": "stream",
     "text": [
      "['credit', 'report', 'list', 'moni', 'owe', 'written', 'collect', 'agenc', 'request', 'proof', 'owe', 'moni', 'account', 'none', 'ever', 'sent', 'notifi', 'credit', 'agenc', 'creditor', 'never', 'sent', 'requir', 'proof', 'yet', 'continu', 'list', 'account', 'credit', 'report', 'credit', 'report', 'list', 'moni', 'owe', 'submit', 'document', 'show', 'origin', 'creditor', 'paid', 'howev', 'credit', 'report', 'agenc', 'continu', 'list', 'credit', 'report', 'furthermor', 'two', 'separ', 'collect', 'agenc', 'list', 'creditreport', 'account', 'credit', 'report', 'list', 'bankruptci', 'delet', 'sinc', '7', 'year', 'report', 'expir']\n"
     ]
    }
   ],
   "source": [
    "print(complaints_df.iloc[13])"
   ]
  },
  {
   "cell_type": "code",
   "execution_count": 129,
   "metadata": {},
   "outputs": [
    {
     "data": {
      "text/plain": [
       "Index(['Complaints', 'Product'], dtype='object')"
      ]
     },
     "execution_count": 129,
     "metadata": {},
     "output_type": "execute_result"
    }
   ],
   "source": [
    "complaints_data.columns"
   ]
  },
  {
   "cell_type": "markdown",
   "metadata": {},
   "source": [
    "##### Concatenating the cleaned/preprocessed complaints to the complaints_data dataframe"
   ]
  },
  {
   "cell_type": "code",
   "execution_count": 130,
   "metadata": {},
   "outputs": [
    {
     "name": "stderr",
     "output_type": "stream",
     "text": [
      "/var/folders/y2/ff1bp6sj4hq36hkps05494740000gn/T/ipykernel_9719/3033562191.py:1: SettingWithCopyWarning: \n",
      "A value is trying to be set on a copy of a slice from a DataFrame.\n",
      "Try using .loc[row_indexer,col_indexer] = value instead\n",
      "\n",
      "See the caveats in the documentation: https://pandas.pydata.org/pandas-docs/stable/user_guide/indexing.html#returning-a-view-versus-a-copy\n",
      "  complaints_data[\"clean_complaints\"] = complaints_df\n"
     ]
    }
   ],
   "source": [
    "complaints_data[\"clean_complaints\"] = complaints_df"
   ]
  },
  {
   "cell_type": "code",
   "execution_count": 131,
   "metadata": {},
   "outputs": [
    {
     "data": {
      "text/html": [
       "<div>\n",
       "<style scoped>\n",
       "    .dataframe tbody tr th:only-of-type {\n",
       "        vertical-align: middle;\n",
       "    }\n",
       "\n",
       "    .dataframe tbody tr th {\n",
       "        vertical-align: top;\n",
       "    }\n",
       "\n",
       "    .dataframe thead th {\n",
       "        text-align: right;\n",
       "    }\n",
       "</style>\n",
       "<table border=\"1\" class=\"dataframe\">\n",
       "  <thead>\n",
       "    <tr style=\"text-align: right;\">\n",
       "      <th></th>\n",
       "      <th>Complaints</th>\n",
       "      <th>Product</th>\n",
       "      <th>clean_complaints</th>\n",
       "    </tr>\n",
       "  </thead>\n",
       "  <tbody>\n",
       "    <tr>\n",
       "      <th>1</th>\n",
       "      <td>I contacted Ally on Friday XX/XX/XXXX after falling behind on payments due to being out of work ...</td>\n",
       "      <td>Auto_Loan</td>\n",
       "      <td>[contact, alli, friday, fall, behind, payment, due, work, short, period, time, due, ill, chate, ...</td>\n",
       "    </tr>\n",
       "    <tr>\n",
       "      <th>7</th>\n",
       "      <td>Hello This complaint is against the three credit reporting companies. XXXX, Trans Union and XXXX...</td>\n",
       "      <td>Credit_Report</td>\n",
       "      <td>[hello, complaint, three, credit, report, compani, tran, union, notic, discrep, credit, report, ...</td>\n",
       "    </tr>\n",
       "    <tr>\n",
       "      <th>8</th>\n",
       "      <td>I am a victim of Identity Theft &amp; currently have an Experian account that I can view my Experian...</td>\n",
       "      <td>Credit_Report</td>\n",
       "      <td>[victim, ident, theft, current, experian, account, view, experian, credit, report, get, notifi, ...</td>\n",
       "    </tr>\n",
       "    <tr>\n",
       "      <th>10</th>\n",
       "      <td>Two accounts are still on my credit history after contacting the credit bureau. They have the in...</td>\n",
       "      <td>Credit_Report</td>\n",
       "      <td>[two, account, still, credit, histori, contact, credit, bureau, incorrect, statu, account, balanc]</td>\n",
       "    </tr>\n",
       "    <tr>\n",
       "      <th>13</th>\n",
       "      <td>Receiving daily telephone call ( s ) from XXXX XXXX XXXX identifying themselves as from an attor...</td>\n",
       "      <td>Credit_Report</td>\n",
       "      <td>[receiv, daili, telephon, call, identifi, attorney, s, offic, unabl, decif, name, ask, 3, time, ...</td>\n",
       "    </tr>\n",
       "  </tbody>\n",
       "</table>\n",
       "</div>"
      ],
      "text/plain": [
       "                                                                                             Complaints  \\\n",
       "1   I contacted Ally on Friday XX/XX/XXXX after falling behind on payments due to being out of work ...   \n",
       "7   Hello This complaint is against the three credit reporting companies. XXXX, Trans Union and XXXX...   \n",
       "8   I am a victim of Identity Theft & currently have an Experian account that I can view my Experian...   \n",
       "10  Two accounts are still on my credit history after contacting the credit bureau. They have the in...   \n",
       "13  Receiving daily telephone call ( s ) from XXXX XXXX XXXX identifying themselves as from an attor...   \n",
       "\n",
       "          Product  \\\n",
       "1       Auto_Loan   \n",
       "7   Credit_Report   \n",
       "8   Credit_Report   \n",
       "10  Credit_Report   \n",
       "13  Credit_Report   \n",
       "\n",
       "                                                                                       clean_complaints  \n",
       "1   [contact, alli, friday, fall, behind, payment, due, work, short, period, time, due, ill, chate, ...  \n",
       "7   [hello, complaint, three, credit, report, compani, tran, union, notic, discrep, credit, report, ...  \n",
       "8   [victim, ident, theft, current, experian, account, view, experian, credit, report, get, notifi, ...  \n",
       "10   [two, account, still, credit, histori, contact, credit, bureau, incorrect, statu, account, balanc]  \n",
       "13  [receiv, daili, telephon, call, identifi, attorney, s, offic, unabl, decif, name, ask, 3, time, ...  "
      ]
     },
     "execution_count": 131,
     "metadata": {},
     "output_type": "execute_result"
    }
   ],
   "source": [
    "complaints_data.head()"
   ]
  },
  {
   "cell_type": "markdown",
   "metadata": {},
   "source": [
    "### Preparing Data for creating model"
   ]
  },
  {
   "cell_type": "code",
   "execution_count": 133,
   "metadata": {},
   "outputs": [],
   "source": [
    "from sklearn.naive_bayes import MultinomialNB\n",
    "from sklearn.model_selection import train_test_split\n",
    "from sklearn.feature_extraction.text import CountVectorizer\n",
    "from sklearn.metrics import accuracy_score, confusion_matrix"
   ]
  },
  {
   "cell_type": "markdown",
   "metadata": {},
   "source": [
    "##### Initializing a Count Vectorizer"
   ]
  },
  {
   "cell_type": "code",
   "execution_count": 134,
   "metadata": {},
   "outputs": [],
   "source": [
    "vect = CountVectorizer(min_df=200)"
   ]
  },
  {
   "cell_type": "markdown",
   "metadata": {},
   "source": [
    "##### Joining the list of processed tokens back to sentence"
   ]
  },
  {
   "cell_type": "code",
   "execution_count": 136,
   "metadata": {},
   "outputs": [
    {
     "name": "stderr",
     "output_type": "stream",
     "text": [
      "/var/folders/y2/ff1bp6sj4hq36hkps05494740000gn/T/ipykernel_9719/1116140422.py:1: SettingWithCopyWarning: \n",
      "A value is trying to be set on a copy of a slice from a DataFrame.\n",
      "Try using .loc[row_indexer,col_indexer] = value instead\n",
      "\n",
      "See the caveats in the documentation: https://pandas.pydata.org/pandas-docs/stable/user_guide/indexing.html#returning-a-view-versus-a-copy\n",
      "  complaints_data[\"clean_complaints\"] = complaints_data[\"clean_complaints\"].apply(lambda x: \" \".join(x))\n"
     ]
    }
   ],
   "source": [
    "complaints_data[\"clean_complaints\"] = complaints_data[\"clean_complaints\"].apply(lambda x: \" \".join(x))"
   ]
  },
  {
   "cell_type": "code",
   "execution_count": 137,
   "metadata": {},
   "outputs": [
    {
     "data": {
      "text/plain": [
       "1     contact alli friday fall behind payment due work short period time due ill chate repres log acco...\n",
       "7     hello complaint three credit report compani tran union notic discrep credit report put credit fr...\n",
       "8     victim ident theft current experian account view experian credit report get notifi activ experia...\n",
       "10                  two account still credit histori contact credit bureau incorrect statu account balanc\n",
       "13    receiv daili telephon call identifi attorney s offic unabl decif name ask 3 time ask confirm nam...\n",
       "Name: clean_complaints, dtype: object"
      ]
     },
     "execution_count": 137,
     "metadata": {},
     "output_type": "execute_result"
    }
   ],
   "source": [
    "complaints_data[\"clean_complaints\"].head()"
   ]
  },
  {
   "cell_type": "markdown",
   "metadata": {},
   "source": [
    "##### Fitting Vector Transform"
   ]
  },
  {
   "cell_type": "code",
   "execution_count": 138,
   "metadata": {},
   "outputs": [],
   "source": [
    "X = vect.fit_transform(complaints_data[\"clean_complaints\"])"
   ]
  },
  {
   "cell_type": "code",
   "execution_count": 139,
   "metadata": {},
   "outputs": [
    {
     "data": {
      "text/plain": [
       "(809343, 5539)"
      ]
     },
     "execution_count": 139,
     "metadata": {},
     "output_type": "execute_result"
    }
   ],
   "source": [
    "X.shape"
   ]
  },
  {
   "cell_type": "code",
   "execution_count": 140,
   "metadata": {},
   "outputs": [],
   "source": [
    "y = complaints_data[\"Product\"]"
   ]
  },
  {
   "cell_type": "markdown",
   "metadata": {},
   "source": [
    "#### Splitting data in to train and test"
   ]
  },
  {
   "cell_type": "code",
   "execution_count": 141,
   "metadata": {},
   "outputs": [],
   "source": [
    "X_train, X_test, y_train, y_test = train_test_split(X, y, test_size=0.2, random_state=42, stratify = y)"
   ]
  },
  {
   "cell_type": "code",
   "execution_count": 142,
   "metadata": {},
   "outputs": [
    {
     "name": "stdout",
     "output_type": "stream",
     "text": [
      "(647474, 5539) (647474,) (161869, 5539) (161869,)\n"
     ]
    }
   ],
   "source": [
    "print(X_train.shape, y_train.shape, X_test.shape, y_test.shape)"
   ]
  },
  {
   "cell_type": "markdown",
   "metadata": {},
   "source": [
    "#### Model Training using Naive Bayes"
   ]
  },
  {
   "cell_type": "code",
   "execution_count": 144,
   "metadata": {},
   "outputs": [],
   "source": [
    "nb_model = MultinomialNB()"
   ]
  },
  {
   "cell_type": "code",
   "execution_count": 145,
   "metadata": {},
   "outputs": [
    {
     "data": {
      "text/html": [
       "<style>#sk-container-id-1 {color: black;}#sk-container-id-1 pre{padding: 0;}#sk-container-id-1 div.sk-toggleable {background-color: white;}#sk-container-id-1 label.sk-toggleable__label {cursor: pointer;display: block;width: 100%;margin-bottom: 0;padding: 0.3em;box-sizing: border-box;text-align: center;}#sk-container-id-1 label.sk-toggleable__label-arrow:before {content: \"▸\";float: left;margin-right: 0.25em;color: #696969;}#sk-container-id-1 label.sk-toggleable__label-arrow:hover:before {color: black;}#sk-container-id-1 div.sk-estimator:hover label.sk-toggleable__label-arrow:before {color: black;}#sk-container-id-1 div.sk-toggleable__content {max-height: 0;max-width: 0;overflow: hidden;text-align: left;background-color: #f0f8ff;}#sk-container-id-1 div.sk-toggleable__content pre {margin: 0.2em;color: black;border-radius: 0.25em;background-color: #f0f8ff;}#sk-container-id-1 input.sk-toggleable__control:checked~div.sk-toggleable__content {max-height: 200px;max-width: 100%;overflow: auto;}#sk-container-id-1 input.sk-toggleable__control:checked~label.sk-toggleable__label-arrow:before {content: \"▾\";}#sk-container-id-1 div.sk-estimator input.sk-toggleable__control:checked~label.sk-toggleable__label {background-color: #d4ebff;}#sk-container-id-1 div.sk-label input.sk-toggleable__control:checked~label.sk-toggleable__label {background-color: #d4ebff;}#sk-container-id-1 input.sk-hidden--visually {border: 0;clip: rect(1px 1px 1px 1px);clip: rect(1px, 1px, 1px, 1px);height: 1px;margin: -1px;overflow: hidden;padding: 0;position: absolute;width: 1px;}#sk-container-id-1 div.sk-estimator {font-family: monospace;background-color: #f0f8ff;border: 1px dotted black;border-radius: 0.25em;box-sizing: border-box;margin-bottom: 0.5em;}#sk-container-id-1 div.sk-estimator:hover {background-color: #d4ebff;}#sk-container-id-1 div.sk-parallel-item::after {content: \"\";width: 100%;border-bottom: 1px solid gray;flex-grow: 1;}#sk-container-id-1 div.sk-label:hover label.sk-toggleable__label {background-color: #d4ebff;}#sk-container-id-1 div.sk-serial::before {content: \"\";position: absolute;border-left: 1px solid gray;box-sizing: border-box;top: 0;bottom: 0;left: 50%;z-index: 0;}#sk-container-id-1 div.sk-serial {display: flex;flex-direction: column;align-items: center;background-color: white;padding-right: 0.2em;padding-left: 0.2em;position: relative;}#sk-container-id-1 div.sk-item {position: relative;z-index: 1;}#sk-container-id-1 div.sk-parallel {display: flex;align-items: stretch;justify-content: center;background-color: white;position: relative;}#sk-container-id-1 div.sk-item::before, #sk-container-id-1 div.sk-parallel-item::before {content: \"\";position: absolute;border-left: 1px solid gray;box-sizing: border-box;top: 0;bottom: 0;left: 50%;z-index: -1;}#sk-container-id-1 div.sk-parallel-item {display: flex;flex-direction: column;z-index: 1;position: relative;background-color: white;}#sk-container-id-1 div.sk-parallel-item:first-child::after {align-self: flex-end;width: 50%;}#sk-container-id-1 div.sk-parallel-item:last-child::after {align-self: flex-start;width: 50%;}#sk-container-id-1 div.sk-parallel-item:only-child::after {width: 0;}#sk-container-id-1 div.sk-dashed-wrapped {border: 1px dashed gray;margin: 0 0.4em 0.5em 0.4em;box-sizing: border-box;padding-bottom: 0.4em;background-color: white;}#sk-container-id-1 div.sk-label label {font-family: monospace;font-weight: bold;display: inline-block;line-height: 1.2em;}#sk-container-id-1 div.sk-label-container {text-align: center;}#sk-container-id-1 div.sk-container {/* jupyter's `normalize.less` sets `[hidden] { display: none; }` but bootstrap.min.css set `[hidden] { display: none !important; }` so we also need the `!important` here to be able to override the default hidden behavior on the sphinx rendered scikit-learn.org. See: https://github.com/scikit-learn/scikit-learn/issues/21755 */display: inline-block !important;position: relative;}#sk-container-id-1 div.sk-text-repr-fallback {display: none;}</style><div id=\"sk-container-id-1\" class=\"sk-top-container\"><div class=\"sk-text-repr-fallback\"><pre>MultinomialNB()</pre><b>In a Jupyter environment, please rerun this cell to show the HTML representation or trust the notebook. <br />On GitHub, the HTML representation is unable to render, please try loading this page with nbviewer.org.</b></div><div class=\"sk-container\" hidden><div class=\"sk-item\"><div class=\"sk-estimator sk-toggleable\"><input class=\"sk-toggleable__control sk-hidden--visually\" id=\"sk-estimator-id-1\" type=\"checkbox\" checked><label for=\"sk-estimator-id-1\" class=\"sk-toggleable__label sk-toggleable__label-arrow\">MultinomialNB</label><div class=\"sk-toggleable__content\"><pre>MultinomialNB()</pre></div></div></div></div></div>"
      ],
      "text/plain": [
       "MultinomialNB()"
      ]
     },
     "execution_count": 145,
     "metadata": {},
     "output_type": "execute_result"
    }
   ],
   "source": [
    "nb_model.fit(X_train, y_train)"
   ]
  },
  {
   "cell_type": "markdown",
   "metadata": {},
   "source": [
    "##### Predicting"
   ]
  },
  {
   "cell_type": "code",
   "execution_count": 146,
   "metadata": {},
   "outputs": [],
   "source": [
    "test_pred = nb_model.predict(X_test)"
   ]
  },
  {
   "cell_type": "code",
   "execution_count": 147,
   "metadata": {},
   "outputs": [
    {
     "data": {
      "text/plain": [
       "0.7833865656796546"
      ]
     },
     "execution_count": 147,
     "metadata": {},
     "output_type": "execute_result"
    }
   ],
   "source": [
    "accuracy_score(y_test, test_pred)"
   ]
  },
  {
   "cell_type": "markdown",
   "metadata": {},
   "source": [
    "###### Accuracy is around 78.3%"
   ]
  },
  {
   "cell_type": "markdown",
   "metadata": {},
   "source": [
    "##### Visualize Confusion Matrix"
   ]
  },
  {
   "cell_type": "code",
   "execution_count": 148,
   "metadata": {},
   "outputs": [],
   "source": [
    "conf_mat = confusion_matrix(y_test, test_pred)"
   ]
  },
  {
   "cell_type": "code",
   "execution_count": 149,
   "metadata": {},
   "outputs": [
    {
     "data": {
      "text/plain": [
       "array([[ 2127,    46,    52,   105,   322,   307,     8,    39,     1],\n",
       "       [   48,  8174,   780,    93,   205,    78,   899,   159,    19],\n",
       "       [  175,  1267, 12161,   407,  1208,   379,   520,    78,    14],\n",
       "       [  608,   325,  1067, 22171,  5031,  1521,   149,   559,    45],\n",
       "       [ 1877,   398,  3014,  4667, 56638,  1630,   162,  1148,    77],\n",
       "       [ 1131,   225,   299,   631,   571,  6952,    87,   217,    29],\n",
       "       [    8,   521,   146,    25,    26,    46,  3187,    40,    20],\n",
       "       [  110,   215,   142,   196,   362,   383,    80, 15387,    17],\n",
       "       [    0,    19,     6,     2,     1,     9,     8,     4,     9]])"
      ]
     },
     "execution_count": 149,
     "metadata": {},
     "output_type": "execute_result"
    }
   ],
   "source": [
    "conf_mat"
   ]
  },
  {
   "cell_type": "code",
   "execution_count": 151,
   "metadata": {},
   "outputs": [],
   "source": [
    "conf_mat = pd.DataFrame(conf_mat, columns=nb_model.classes_, index=nb_model.classes_)"
   ]
  },
  {
   "cell_type": "code",
   "execution_count": 152,
   "metadata": {},
   "outputs": [
    {
     "data": {
      "text/html": [
       "<div>\n",
       "<style scoped>\n",
       "    .dataframe tbody tr th:only-of-type {\n",
       "        vertical-align: middle;\n",
       "    }\n",
       "\n",
       "    .dataframe tbody tr th {\n",
       "        vertical-align: top;\n",
       "    }\n",
       "\n",
       "    .dataframe thead th {\n",
       "        text-align: right;\n",
       "    }\n",
       "</style>\n",
       "<table border=\"1\" class=\"dataframe\">\n",
       "  <thead>\n",
       "    <tr style=\"text-align: right;\">\n",
       "      <th></th>\n",
       "      <th>Auto_Loan</th>\n",
       "      <th>Bank_Account</th>\n",
       "      <th>Card</th>\n",
       "      <th>Collections</th>\n",
       "      <th>Credit_Report</th>\n",
       "      <th>Loan</th>\n",
       "      <th>Money_Transfer</th>\n",
       "      <th>Mortgage</th>\n",
       "      <th>Others</th>\n",
       "    </tr>\n",
       "  </thead>\n",
       "  <tbody>\n",
       "    <tr>\n",
       "      <th>Auto_Loan</th>\n",
       "      <td>2127</td>\n",
       "      <td>46</td>\n",
       "      <td>52</td>\n",
       "      <td>105</td>\n",
       "      <td>322</td>\n",
       "      <td>307</td>\n",
       "      <td>8</td>\n",
       "      <td>39</td>\n",
       "      <td>1</td>\n",
       "    </tr>\n",
       "    <tr>\n",
       "      <th>Bank_Account</th>\n",
       "      <td>48</td>\n",
       "      <td>8174</td>\n",
       "      <td>780</td>\n",
       "      <td>93</td>\n",
       "      <td>205</td>\n",
       "      <td>78</td>\n",
       "      <td>899</td>\n",
       "      <td>159</td>\n",
       "      <td>19</td>\n",
       "    </tr>\n",
       "    <tr>\n",
       "      <th>Card</th>\n",
       "      <td>175</td>\n",
       "      <td>1267</td>\n",
       "      <td>12161</td>\n",
       "      <td>407</td>\n",
       "      <td>1208</td>\n",
       "      <td>379</td>\n",
       "      <td>520</td>\n",
       "      <td>78</td>\n",
       "      <td>14</td>\n",
       "    </tr>\n",
       "    <tr>\n",
       "      <th>Collections</th>\n",
       "      <td>608</td>\n",
       "      <td>325</td>\n",
       "      <td>1067</td>\n",
       "      <td>22171</td>\n",
       "      <td>5031</td>\n",
       "      <td>1521</td>\n",
       "      <td>149</td>\n",
       "      <td>559</td>\n",
       "      <td>45</td>\n",
       "    </tr>\n",
       "    <tr>\n",
       "      <th>Credit_Report</th>\n",
       "      <td>1877</td>\n",
       "      <td>398</td>\n",
       "      <td>3014</td>\n",
       "      <td>4667</td>\n",
       "      <td>56638</td>\n",
       "      <td>1630</td>\n",
       "      <td>162</td>\n",
       "      <td>1148</td>\n",
       "      <td>77</td>\n",
       "    </tr>\n",
       "    <tr>\n",
       "      <th>Loan</th>\n",
       "      <td>1131</td>\n",
       "      <td>225</td>\n",
       "      <td>299</td>\n",
       "      <td>631</td>\n",
       "      <td>571</td>\n",
       "      <td>6952</td>\n",
       "      <td>87</td>\n",
       "      <td>217</td>\n",
       "      <td>29</td>\n",
       "    </tr>\n",
       "    <tr>\n",
       "      <th>Money_Transfer</th>\n",
       "      <td>8</td>\n",
       "      <td>521</td>\n",
       "      <td>146</td>\n",
       "      <td>25</td>\n",
       "      <td>26</td>\n",
       "      <td>46</td>\n",
       "      <td>3187</td>\n",
       "      <td>40</td>\n",
       "      <td>20</td>\n",
       "    </tr>\n",
       "    <tr>\n",
       "      <th>Mortgage</th>\n",
       "      <td>110</td>\n",
       "      <td>215</td>\n",
       "      <td>142</td>\n",
       "      <td>196</td>\n",
       "      <td>362</td>\n",
       "      <td>383</td>\n",
       "      <td>80</td>\n",
       "      <td>15387</td>\n",
       "      <td>17</td>\n",
       "    </tr>\n",
       "    <tr>\n",
       "      <th>Others</th>\n",
       "      <td>0</td>\n",
       "      <td>19</td>\n",
       "      <td>6</td>\n",
       "      <td>2</td>\n",
       "      <td>1</td>\n",
       "      <td>9</td>\n",
       "      <td>8</td>\n",
       "      <td>4</td>\n",
       "      <td>9</td>\n",
       "    </tr>\n",
       "  </tbody>\n",
       "</table>\n",
       "</div>"
      ],
      "text/plain": [
       "                Auto_Loan  Bank_Account   Card  Collections  Credit_Report  \\\n",
       "Auto_Loan            2127            46     52          105            322   \n",
       "Bank_Account           48          8174    780           93            205   \n",
       "Card                  175          1267  12161          407           1208   \n",
       "Collections           608           325   1067        22171           5031   \n",
       "Credit_Report        1877           398   3014         4667          56638   \n",
       "Loan                 1131           225    299          631            571   \n",
       "Money_Transfer          8           521    146           25             26   \n",
       "Mortgage              110           215    142          196            362   \n",
       "Others                  0            19      6            2              1   \n",
       "\n",
       "                Loan  Money_Transfer  Mortgage  Others  \n",
       "Auto_Loan        307               8        39       1  \n",
       "Bank_Account      78             899       159      19  \n",
       "Card             379             520        78      14  \n",
       "Collections     1521             149       559      45  \n",
       "Credit_Report   1630             162      1148      77  \n",
       "Loan            6952              87       217      29  \n",
       "Money_Transfer    46            3187        40      20  \n",
       "Mortgage         383              80     15387      17  \n",
       "Others             9               8         4       9  "
      ]
     },
     "execution_count": 152,
     "metadata": {},
     "output_type": "execute_result"
    }
   ],
   "source": [
    "conf_mat"
   ]
  },
  {
   "cell_type": "code",
   "execution_count": 153,
   "metadata": {},
   "outputs": [
    {
     "data": {
      "image/png": "[encoded data removed]",
      "text/plain": [
       "<Figure size 640x480 with 2 Axes>"
      ]
     },
     "metadata": {},
     "output_type": "display_data"
    }
   ],
   "source": [
    "sns.heatmap(conf_mat)\n",
    "plt.show()"
   ]
  },
  {
   "cell_type": "markdown",
   "metadata": {},
   "source": [
    "##### Exporting the model"
   ]
  },
  {
   "cell_type": "code",
   "execution_count": 154,
   "metadata": {},
   "outputs": [],
   "source": [
    "import pickle"
   ]
  },
  {
   "cell_type": "code",
   "execution_count": 155,
   "metadata": {},
   "outputs": [],
   "source": [
    "with open(\"../output/count_vect.pkl\", \"wb\") as f:\n",
    "    pickle.dump(vect, f)\n",
    "with open(\"../output/nb.pkl\", \"wb\") as f:\n",
    "    pickle.dump(nb_model, f)"
   ]
  },
  {
   "cell_type": "markdown",
   "metadata": {},
   "source": [
    "##### Lets perform some tests to see if the model predicts some classes correctly"
   ]
  },
  {
   "cell_type": "code",
   "execution_count": 164,
   "metadata": {},
   "outputs": [
    {
     "data": {
      "text/plain": [
       "'I have a debt of Bank of America which was written off by the bank XX/XX/XXXX without my knowledge. I went to the bank XXXX XXXX since a law group kept on delving on XXXX XXXX Clerk File and garnishing salary from my work.This case has been closed.I paid a lesser amount to the bank to close this debt XXXX I sent them checks. I will greatly appreciate if this case will be resolve.'"
      ]
     },
     "execution_count": 164,
     "metadata": {},
     "output_type": "execute_result"
    }
   ],
   "source": [
    "complaints_data[\"Complaints\"][1545]"
   ]
  },
  {
   "cell_type": "code",
   "execution_count": 165,
   "metadata": {},
   "outputs": [
    {
     "data": {
      "text/plain": [
       "'Collections'"
      ]
     },
     "execution_count": 165,
     "metadata": {},
     "output_type": "execute_result"
    }
   ],
   "source": [
    "complaints_data[\"Product\"][1545]"
   ]
  },
  {
   "cell_type": "code",
   "execution_count": 166,
   "metadata": {},
   "outputs": [
    {
     "data": {
      "text/plain": [
       "'This is a personal Delta American Express charge card. I am a 30 year customer with American Express. I suddenly, without notice or warning have noted that \" Charging Privileges Have Been Suspended \\'\\'. The card is current, with no money owed. This notice is only available online and I never received ANY written advice of this action. My account is not \" paperless \\'\\'. At the phone number provided to call for information, after nearly an hour on the phone THREE TIMES, no explanation was ever provided and I was advised I \" would be contacted \\'\\' to explain the ( lack of ) issue. I was never contacted. I had accumulated miles points on the card that I can not access and my charge privileges have been suspended. I am unable to obtain any information.'"
      ]
     },
     "execution_count": 166,
     "metadata": {},
     "output_type": "execute_result"
    }
   ],
   "source": [
    "complaints_data[\"Complaints\"][5001]"
   ]
  },
  {
   "cell_type": "code",
   "execution_count": 167,
   "metadata": {},
   "outputs": [
    {
     "data": {
      "text/plain": [
       "'Card'"
      ]
     },
     "execution_count": 167,
     "metadata": {},
     "output_type": "execute_result"
    }
   ],
   "source": [
    "complaints_data[\"Product\"][5001]"
   ]
  },
  {
   "cell_type": "code",
   "execution_count": 175,
   "metadata": {},
   "outputs": [],
   "source": [
    "test_complaint_1 = complaints_data[\"Complaints\"][1545]\n",
    "test_complaint_2 = complaints_data[\"Complaints\"][5001]"
   ]
  },
  {
   "cell_type": "code",
   "execution_count": 176,
   "metadata": {},
   "outputs": [],
   "source": [
    "test_complaint = [test_complaint_1, test_complaint_2]"
   ]
  },
  {
   "cell_type": "code",
   "execution_count": 177,
   "metadata": {},
   "outputs": [],
   "source": [
    "vect = pickle.load(open(\"../output/count_vect.pkl\", \"rb\"))\n",
    "nb_model = pickle.load(open(\"../output/nb.pkl\", \"rb\"))"
   ]
  },
  {
   "cell_type": "code",
   "execution_count": 178,
   "metadata": {},
   "outputs": [],
   "source": [
    "test_complaint = pd.Series(test_complaint)"
   ]
  },
  {
   "cell_type": "code",
   "execution_count": 179,
   "metadata": {},
   "outputs": [
    {
     "data": {
      "text/plain": [
       "0    I have a debt of Bank of America which was written off by the bank XX/XX/XXXX without my knowled...\n",
       "1    This is a personal Delta American Express charge card. I am a 30 year customer with American Exp...\n",
       "dtype: object"
      ]
     },
     "execution_count": 179,
     "metadata": {},
     "output_type": "execute_result"
    }
   ],
   "source": [
    "test_complaint"
   ]
  },
  {
   "cell_type": "code",
   "execution_count": 180,
   "metadata": {},
   "outputs": [],
   "source": [
    "test_complaint = test_complaint.str.lower()\n",
    "\n",
    "test_complaint = test_complaint.map(word_tokenize)\n",
    "\n",
    "test_complaint = test_complaint.apply(remove_stop_words)\n",
    "\n",
    "test_complaint = test_complaint.apply(lambda x: [\" \".join(tokenizer.tokenize(t)) for t in x if len(tokenizer.tokenize(t))>0 ])\n",
    "\n",
    "test_complaint = test_complaint.apply(lambda x: [(re.sub(r'\\b(?:xx{1,3}|xxxxxx|00{1,3})\\b',\"\",t).strip()) for t in x if len((re.sub(r'\\b(?:xx{1,3}|xxxxxx|00{1,3})\\b',\"\",t).strip())) > 0])\n",
    "\n",
    "test_complaint = test_complaint.apply(lambda words: [stemmer.stem(word) for word in words])"
   ]
  },
  {
   "cell_type": "code",
   "execution_count": 181,
   "metadata": {},
   "outputs": [
    {
     "data": {
      "text/plain": [
       "0    [debt, bank, america, written, bank, without, knowledg, went, bank, sinc, law, group, kept, delv...\n",
       "1    [person, delta, american, express, charg, card, 30, year, custom, american, express, suddenli, w...\n",
       "dtype: object"
      ]
     },
     "execution_count": 181,
     "metadata": {},
     "output_type": "execute_result"
    }
   ],
   "source": [
    "test_complaint"
   ]
  },
  {
   "cell_type": "code",
   "execution_count": 184,
   "metadata": {},
   "outputs": [],
   "source": [
    "test_complaint = test_complaint.apply(lambda x: \" \".join(x))"
   ]
  },
  {
   "cell_type": "code",
   "execution_count": 185,
   "metadata": {},
   "outputs": [
    {
     "data": {
      "text/plain": [
       "0    debt bank america written bank without knowledg went bank sinc law group kept delv clerk file ga...\n",
       "1    person delta american express charg card 30 year custom american express suddenli without notic ...\n",
       "dtype: object"
      ]
     },
     "execution_count": 185,
     "metadata": {},
     "output_type": "execute_result"
    }
   ],
   "source": [
    "test_complaint"
   ]
  },
  {
   "cell_type": "code",
   "execution_count": 186,
   "metadata": {},
   "outputs": [],
   "source": [
    "X_test = vect.transform(test_complaint)"
   ]
  },
  {
   "cell_type": "code",
   "execution_count": 205,
   "metadata": {},
   "outputs": [
    {
     "data": {
      "text/plain": [
       "array(['Collections', 'Card'], dtype='<U14')"
      ]
     },
     "execution_count": 205,
     "metadata": {},
     "output_type": "execute_result"
    }
   ],
   "source": [
    "nb_model.predict(X_test)"
   ]
  },
  {
   "cell_type": "code",
   "execution_count": 204,
   "metadata": {},
   "outputs": [
    {
     "data": {
      "text/html": [
       "<div>\n",
       "<style scoped>\n",
       "    .dataframe tbody tr th:only-of-type {\n",
       "        vertical-align: middle;\n",
       "    }\n",
       "\n",
       "    .dataframe tbody tr th {\n",
       "        vertical-align: top;\n",
       "    }\n",
       "\n",
       "    .dataframe thead th {\n",
       "        text-align: right;\n",
       "    }\n",
       "</style>\n",
       "<table border=\"1\" class=\"dataframe\">\n",
       "  <thead>\n",
       "    <tr style=\"text-align: right;\">\n",
       "      <th></th>\n",
       "      <th>Auto_Loan</th>\n",
       "      <th>Bank_Account</th>\n",
       "      <th>Card</th>\n",
       "      <th>Collections</th>\n",
       "      <th>Credit_Report</th>\n",
       "      <th>Loan</th>\n",
       "      <th>Money_Transfer</th>\n",
       "      <th>Mortgage</th>\n",
       "      <th>Others</th>\n",
       "    </tr>\n",
       "  </thead>\n",
       "  <tbody>\n",
       "    <tr>\n",
       "      <th>0</th>\n",
       "      <td>0.0</td>\n",
       "      <td>0.083</td>\n",
       "      <td>0.001</td>\n",
       "      <td>0.914</td>\n",
       "      <td>0.0</td>\n",
       "      <td>0.001</td>\n",
       "      <td>0.0</td>\n",
       "      <td>0.001</td>\n",
       "      <td>0.0</td>\n",
       "    </tr>\n",
       "    <tr>\n",
       "      <th>1</th>\n",
       "      <td>0.0</td>\n",
       "      <td>0.000</td>\n",
       "      <td>1.000</td>\n",
       "      <td>0.000</td>\n",
       "      <td>0.0</td>\n",
       "      <td>0.000</td>\n",
       "      <td>0.0</td>\n",
       "      <td>0.000</td>\n",
       "      <td>0.0</td>\n",
       "    </tr>\n",
       "  </tbody>\n",
       "</table>\n",
       "</div>"
      ],
      "text/plain": [
       "   Auto_Loan  Bank_Account   Card  Collections  Credit_Report   Loan  \\\n",
       "0        0.0         0.083  0.001        0.914            0.0  0.001   \n",
       "1        0.0         0.000  1.000        0.000            0.0  0.000   \n",
       "\n",
       "   Money_Transfer  Mortgage  Others  \n",
       "0             0.0     0.001     0.0  \n",
       "1             0.0     0.000     0.0  "
      ]
     },
     "execution_count": 204,
     "metadata": {},
     "output_type": "execute_result"
    }
   ],
   "source": [
    "pd.DataFrame(nb_model.predict_proba(X_test).round(3), columns=nb_model.classes_)"
   ]
  },
  {
   "cell_type": "markdown",
   "metadata": {},
   "source": [
    "##### The predictiosn look okay.\n",
    "##### Lets perform some tests to see if the model predicts some classes correctly for imbalanced classes"
   ]
  },
  {
   "cell_type": "code",
   "execution_count": 211,
   "metadata": {},
   "outputs": [
    {
     "data": {
      "text/html": [
       "<div>\n",
       "<style scoped>\n",
       "    .dataframe tbody tr th:only-of-type {\n",
       "        vertical-align: middle;\n",
       "    }\n",
       "\n",
       "    .dataframe tbody tr th {\n",
       "        vertical-align: top;\n",
       "    }\n",
       "\n",
       "    .dataframe thead th {\n",
       "        text-align: right;\n",
       "    }\n",
       "</style>\n",
       "<table border=\"1\" class=\"dataframe\">\n",
       "  <thead>\n",
       "    <tr style=\"text-align: right;\">\n",
       "      <th></th>\n",
       "      <th>Auto_Loan</th>\n",
       "      <th>Bank_Account</th>\n",
       "      <th>Card</th>\n",
       "      <th>Collections</th>\n",
       "      <th>Credit_Report</th>\n",
       "      <th>Loan</th>\n",
       "      <th>Money_Transfer</th>\n",
       "      <th>Mortgage</th>\n",
       "      <th>Others</th>\n",
       "    </tr>\n",
       "  </thead>\n",
       "  <tbody>\n",
       "    <tr>\n",
       "      <th>0</th>\n",
       "      <td>0.89</td>\n",
       "      <td>0.0</td>\n",
       "      <td>0.0</td>\n",
       "      <td>0.0</td>\n",
       "      <td>0.0</td>\n",
       "      <td>0.11</td>\n",
       "      <td>0.0</td>\n",
       "      <td>0.0</td>\n",
       "      <td>0.0</td>\n",
       "    </tr>\n",
       "    <tr>\n",
       "      <th>1</th>\n",
       "      <td>0.00</td>\n",
       "      <td>0.0</td>\n",
       "      <td>0.0</td>\n",
       "      <td>0.0</td>\n",
       "      <td>0.0</td>\n",
       "      <td>0.00</td>\n",
       "      <td>0.0</td>\n",
       "      <td>0.0</td>\n",
       "      <td>1.0</td>\n",
       "    </tr>\n",
       "  </tbody>\n",
       "</table>\n",
       "</div>"
      ],
      "text/plain": [
       "   Auto_Loan  Bank_Account  Card  Collections  Credit_Report  Loan  \\\n",
       "0       0.89           0.0   0.0          0.0            0.0  0.11   \n",
       "1       0.00           0.0   0.0          0.0            0.0  0.00   \n",
       "\n",
       "   Money_Transfer  Mortgage  Others  \n",
       "0             0.0       0.0     0.0  \n",
       "1             0.0       0.0     1.0  "
      ]
     },
     "execution_count": 211,
     "metadata": {},
     "output_type": "execute_result"
    }
   ],
   "source": [
    "test_complaint_1 = complaints_data[\"Complaints\"][1]\n",
    "test_complaint_2 = complaints_data[\"Complaints\"][2324447]\n",
    "test_complaint = [test_complaint_1, test_complaint_2]\n",
    "test_complaint = pd.Series(test_complaint)\n",
    "\n",
    "test_complaint = test_complaint.str.lower()\n",
    "\n",
    "test_complaint = test_complaint.map(word_tokenize)\n",
    "\n",
    "test_complaint = test_complaint.apply(remove_stop_words)\n",
    "\n",
    "test_complaint = test_complaint.apply(lambda x: [\" \".join(tokenizer.tokenize(t)) for t in x if len(tokenizer.tokenize(t))>0 ])\n",
    "\n",
    "test_complaint = test_complaint.apply(lambda x: [(re.sub(r'\\b(?:xx{1,3}|xxxxxx|00{1,3})\\b',\"\",t).strip()) for t in x if len((re.sub(r'\\b(?:xx{1,3}|xxxxxx|00{1,3})\\b',\"\",t).strip())) > 0])\n",
    "\n",
    "test_complaint = test_complaint.apply(lambda words: [stemmer.stem(word) for word in words])\n",
    "test_complaint = test_complaint.apply(lambda x: \" \".join(x))\n",
    "\n",
    "X_test = vect.transform(test_complaint)\n",
    "nb_model.predict(X_test)\n",
    "\n",
    "pd.DataFrame(nb_model.predict_proba(X_test).round(3), columns=nb_model.classes_)"
   ]
  },
  {
   "cell_type": "markdown",
   "metadata": {},
   "source": [
    "##### These seem to have been predicted correctly as well."
   ]
  }
 ],
 "metadata": {
  "kernelspec": {
   "display_name": "Python310",
   "language": "python",
   "name": "python310"
  },
  "language_info": {
   "codemirror_mode": {
    "name": "ipython",
    "version": 3
   },
   "file_extension": ".py",
   "mimetype": "text/x-python",
   "name": "python",
   "nbconvert_exporter": "python",
   "pygments_lexer": "ipython3",
   "version": "3.10.12"
  },
  "orig_nbformat": 4
 },
 "nbformat": 4,
 "nbformat_minor": 2
}
